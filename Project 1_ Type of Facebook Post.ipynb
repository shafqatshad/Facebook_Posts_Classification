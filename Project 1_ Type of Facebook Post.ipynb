{
 "cells": [
  {
   "cell_type": "markdown",
   "metadata": {},
   "source": [
    "# Predicting Type of Facebook Post"
   ]
  },
  {
   "cell_type": "code",
   "execution_count": 1,
   "metadata": {},
   "outputs": [
    {
     "data": {
      "text/plain": [
       "'\\nMotivation: We are hoping to predict the type of facebook posts (video, photo, link, status) which is the response variable\\nbased on different explanatory variables such as number of reactions, number of comments, number of shares, \\nnumber of likes, loves, wows, hahas, sad and angry. This can be beneficial for advertising companies that aim to determine \\nthe types of posts their consumers would be responsive to. Therefore helping them decide how to advertise. \\nWe will use classification to predict the type of Facebook post.\\n\\nDataset: https://archive.ics.uci.edu/ml/datasets/Facebook+Live+Sellers+in+Thailand\\nThis dataset has Thailand Facebook post information from ten Thai fashion and cosmetics retail sellers. \\nThe purpose of this dataset was intended to analyze the variability of consumer engagement, highlighting the changes induced by the use of Facebook Live. \\n'"
      ]
     },
     "execution_count": 1,
     "metadata": {},
     "output_type": "execute_result"
    }
   ],
   "source": [
    "'''\n",
    "Motivation: We are hoping to predict the type of facebook posts (video, photo, link, status) which is the response variable\n",
    "based on different explanatory variables such as number of reactions, number of comments, number of shares, \n",
    "number of likes, loves, wows, hahas, sad and angry. This can be beneficial for advertising companies that aim to determine \n",
    "the types of posts their consumers would be responsive to. Therefore helping them decide how to advertise. \n",
    "We will use classification to predict the type of Facebook post.\n",
    "\n",
    "Dataset: https://archive.ics.uci.edu/ml/datasets/Facebook+Live+Sellers+in+Thailand\n",
    "This dataset has Thailand Facebook post information from ten Thai fashion and cosmetics retail sellers. \n",
    "The purpose of this dataset was intended to analyze the variability of consumer engagement, highlighting the changes induced by the use of Facebook Live. \n",
    "'''"
   ]
  },
  {
   "cell_type": "code",
   "execution_count": 2,
   "metadata": {},
   "outputs": [],
   "source": [
    "# Import libraries\n",
    "import pandas as pd\n",
    "import numpy as np\n",
    "import matplotlib.pyplot as plt\n",
    "import seaborn as sb\n",
    "import scipy.stats as stat\n",
    "import sklearn as sk\n",
    "from sklearn.preprocessing import PolynomialFeatures\n",
    "from sklearn.preprocessing import StandardScaler\n",
    "from sklearn.pipeline import Pipeline\n",
    "from sklearn.metrics import mean_squared_error"
   ]
  },
  {
   "cell_type": "code",
   "execution_count": 3,
   "metadata": {},
   "outputs": [
    {
     "data": {
      "text/html": [
       "<div>\n",
       "<style scoped>\n",
       "    .dataframe tbody tr th:only-of-type {\n",
       "        vertical-align: middle;\n",
       "    }\n",
       "\n",
       "    .dataframe tbody tr th {\n",
       "        vertical-align: top;\n",
       "    }\n",
       "\n",
       "    .dataframe thead th {\n",
       "        text-align: right;\n",
       "    }\n",
       "</style>\n",
       "<table border=\"1\" class=\"dataframe\">\n",
       "  <thead>\n",
       "    <tr style=\"text-align: right;\">\n",
       "      <th></th>\n",
       "      <th>status_id</th>\n",
       "      <th>status_type</th>\n",
       "      <th>status_published</th>\n",
       "      <th>num_reactions</th>\n",
       "      <th>num_comments</th>\n",
       "      <th>num_shares</th>\n",
       "      <th>num_likes</th>\n",
       "      <th>num_loves</th>\n",
       "      <th>num_wows</th>\n",
       "      <th>num_hahas</th>\n",
       "      <th>num_sads</th>\n",
       "      <th>num_angrys</th>\n",
       "      <th>Column1</th>\n",
       "      <th>Column2</th>\n",
       "      <th>Column3</th>\n",
       "      <th>Column4</th>\n",
       "    </tr>\n",
       "  </thead>\n",
       "  <tbody>\n",
       "    <tr>\n",
       "      <th>0</th>\n",
       "      <td>246675545449582_1649696485147474</td>\n",
       "      <td>video</td>\n",
       "      <td>4/22/2018 6:00</td>\n",
       "      <td>529</td>\n",
       "      <td>512</td>\n",
       "      <td>262</td>\n",
       "      <td>432</td>\n",
       "      <td>92</td>\n",
       "      <td>3</td>\n",
       "      <td>1</td>\n",
       "      <td>1</td>\n",
       "      <td>0</td>\n",
       "      <td>NaN</td>\n",
       "      <td>NaN</td>\n",
       "      <td>NaN</td>\n",
       "      <td>NaN</td>\n",
       "    </tr>\n",
       "    <tr>\n",
       "      <th>1</th>\n",
       "      <td>246675545449582_1649426988507757</td>\n",
       "      <td>photo</td>\n",
       "      <td>4/21/2018 22:45</td>\n",
       "      <td>150</td>\n",
       "      <td>0</td>\n",
       "      <td>0</td>\n",
       "      <td>150</td>\n",
       "      <td>0</td>\n",
       "      <td>0</td>\n",
       "      <td>0</td>\n",
       "      <td>0</td>\n",
       "      <td>0</td>\n",
       "      <td>NaN</td>\n",
       "      <td>NaN</td>\n",
       "      <td>NaN</td>\n",
       "      <td>NaN</td>\n",
       "    </tr>\n",
       "    <tr>\n",
       "      <th>2</th>\n",
       "      <td>246675545449582_1648730588577397</td>\n",
       "      <td>video</td>\n",
       "      <td>4/21/2018 6:17</td>\n",
       "      <td>227</td>\n",
       "      <td>236</td>\n",
       "      <td>57</td>\n",
       "      <td>204</td>\n",
       "      <td>21</td>\n",
       "      <td>1</td>\n",
       "      <td>1</td>\n",
       "      <td>0</td>\n",
       "      <td>0</td>\n",
       "      <td>NaN</td>\n",
       "      <td>NaN</td>\n",
       "      <td>NaN</td>\n",
       "      <td>NaN</td>\n",
       "    </tr>\n",
       "    <tr>\n",
       "      <th>3</th>\n",
       "      <td>246675545449582_1648576705259452</td>\n",
       "      <td>photo</td>\n",
       "      <td>4/21/2018 2:29</td>\n",
       "      <td>111</td>\n",
       "      <td>0</td>\n",
       "      <td>0</td>\n",
       "      <td>111</td>\n",
       "      <td>0</td>\n",
       "      <td>0</td>\n",
       "      <td>0</td>\n",
       "      <td>0</td>\n",
       "      <td>0</td>\n",
       "      <td>NaN</td>\n",
       "      <td>NaN</td>\n",
       "      <td>NaN</td>\n",
       "      <td>NaN</td>\n",
       "    </tr>\n",
       "    <tr>\n",
       "      <th>4</th>\n",
       "      <td>246675545449582_1645700502213739</td>\n",
       "      <td>photo</td>\n",
       "      <td>4/18/2018 3:22</td>\n",
       "      <td>213</td>\n",
       "      <td>0</td>\n",
       "      <td>0</td>\n",
       "      <td>204</td>\n",
       "      <td>9</td>\n",
       "      <td>0</td>\n",
       "      <td>0</td>\n",
       "      <td>0</td>\n",
       "      <td>0</td>\n",
       "      <td>NaN</td>\n",
       "      <td>NaN</td>\n",
       "      <td>NaN</td>\n",
       "      <td>NaN</td>\n",
       "    </tr>\n",
       "  </tbody>\n",
       "</table>\n",
       "</div>"
      ],
      "text/plain": [
       "                          status_id status_type status_published  \\\n",
       "0  246675545449582_1649696485147474       video   4/22/2018 6:00   \n",
       "1  246675545449582_1649426988507757       photo  4/21/2018 22:45   \n",
       "2  246675545449582_1648730588577397       video   4/21/2018 6:17   \n",
       "3  246675545449582_1648576705259452       photo   4/21/2018 2:29   \n",
       "4  246675545449582_1645700502213739       photo   4/18/2018 3:22   \n",
       "\n",
       "   num_reactions  num_comments  num_shares  num_likes  num_loves  num_wows  \\\n",
       "0            529           512         262        432         92         3   \n",
       "1            150             0           0        150          0         0   \n",
       "2            227           236          57        204         21         1   \n",
       "3            111             0           0        111          0         0   \n",
       "4            213             0           0        204          9         0   \n",
       "\n",
       "   num_hahas  num_sads  num_angrys  Column1  Column2  Column3  Column4  \n",
       "0          1         1           0      NaN      NaN      NaN      NaN  \n",
       "1          0         0           0      NaN      NaN      NaN      NaN  \n",
       "2          1         0           0      NaN      NaN      NaN      NaN  \n",
       "3          0         0           0      NaN      NaN      NaN      NaN  \n",
       "4          0         0           0      NaN      NaN      NaN      NaN  "
      ]
     },
     "execution_count": 3,
     "metadata": {},
     "output_type": "execute_result"
    }
   ],
   "source": [
    "# Import the data\n",
    "import types\n",
    "import pandas as pd\n",
    "from botocore.client import Config\n",
    "import ibm_boto3\n",
    "\n",
    "def __iter__(self): return 0\n",
    "\n",
    "# @hidden_cell\n",
    "# The following code accesses a file in your IBM Cloud Object Storage. It includes your credentials.\n",
    "# You might want to remove those credentials before you share the notebook.\n",
    "client_5a7f0d32e3f74da881228669190705da = ibm_boto3.client(service_name='s3',\n",
    "    ibm_api_key_id='13TFOZmPXP0NLbg1MQiX2Kp5vQbZtZ2foWBfxJ_UooG6',\n",
    "    ibm_auth_endpoint=\"https://iam.cloud.ibm.com/oidc/token\",\n",
    "    config=Config(signature_version='oauth'),\n",
    "    endpoint_url='https://s3-api.us-geo.objectstorage.service.networklayer.com')\n",
    "\n",
    "body = client_5a7f0d32e3f74da881228669190705da.get_object(Bucket='ds320project1-donotdelete-pr-ogedj9usgansvg',Key='Live.csv')['Body']\n",
    "# add missing __iter__ method, so pandas accepts body as file-like object\n",
    "if not hasattr(body, \"__iter__\"): body.__iter__ = types.MethodType( __iter__, body )\n",
    "\n",
    "df = pd.read_csv(body)\n",
    "df.head()\n"
   ]
  },
  {
   "cell_type": "markdown",
   "metadata": {},
   "source": [
    "### Data Cleaning/Exploratory Data Analysis"
   ]
  },
  {
   "cell_type": "code",
   "execution_count": 4,
   "metadata": {},
   "outputs": [
    {
     "data": {
      "text/plain": [
       "(7050, 16)"
      ]
     },
     "execution_count": 4,
     "metadata": {},
     "output_type": "execute_result"
    }
   ],
   "source": [
    "# Shape of data\n",
    "df.shape\n",
    "\n",
    "# 7,050 rows, 16 attributes -- last 4 columns are empty"
   ]
  },
  {
   "cell_type": "code",
   "execution_count": 5,
   "metadata": {},
   "outputs": [
    {
     "data": {
      "text/html": [
       "<div>\n",
       "<style scoped>\n",
       "    .dataframe tbody tr th:only-of-type {\n",
       "        vertical-align: middle;\n",
       "    }\n",
       "\n",
       "    .dataframe tbody tr th {\n",
       "        vertical-align: top;\n",
       "    }\n",
       "\n",
       "    .dataframe thead th {\n",
       "        text-align: right;\n",
       "    }\n",
       "</style>\n",
       "<table border=\"1\" class=\"dataframe\">\n",
       "  <thead>\n",
       "    <tr style=\"text-align: right;\">\n",
       "      <th></th>\n",
       "      <th>status_type</th>\n",
       "      <th>status_published</th>\n",
       "      <th>num_reactions</th>\n",
       "      <th>num_comments</th>\n",
       "      <th>num_shares</th>\n",
       "      <th>num_likes</th>\n",
       "      <th>num_loves</th>\n",
       "      <th>num_wows</th>\n",
       "      <th>num_hahas</th>\n",
       "      <th>num_sads</th>\n",
       "      <th>num_angrys</th>\n",
       "    </tr>\n",
       "  </thead>\n",
       "  <tbody>\n",
       "    <tr>\n",
       "      <th>0</th>\n",
       "      <td>video</td>\n",
       "      <td>4/22/2018 6:00</td>\n",
       "      <td>529</td>\n",
       "      <td>512</td>\n",
       "      <td>262</td>\n",
       "      <td>432</td>\n",
       "      <td>92</td>\n",
       "      <td>3</td>\n",
       "      <td>1</td>\n",
       "      <td>1</td>\n",
       "      <td>0</td>\n",
       "    </tr>\n",
       "    <tr>\n",
       "      <th>1</th>\n",
       "      <td>photo</td>\n",
       "      <td>4/21/2018 22:45</td>\n",
       "      <td>150</td>\n",
       "      <td>0</td>\n",
       "      <td>0</td>\n",
       "      <td>150</td>\n",
       "      <td>0</td>\n",
       "      <td>0</td>\n",
       "      <td>0</td>\n",
       "      <td>0</td>\n",
       "      <td>0</td>\n",
       "    </tr>\n",
       "    <tr>\n",
       "      <th>2</th>\n",
       "      <td>video</td>\n",
       "      <td>4/21/2018 6:17</td>\n",
       "      <td>227</td>\n",
       "      <td>236</td>\n",
       "      <td>57</td>\n",
       "      <td>204</td>\n",
       "      <td>21</td>\n",
       "      <td>1</td>\n",
       "      <td>1</td>\n",
       "      <td>0</td>\n",
       "      <td>0</td>\n",
       "    </tr>\n",
       "    <tr>\n",
       "      <th>3</th>\n",
       "      <td>photo</td>\n",
       "      <td>4/21/2018 2:29</td>\n",
       "      <td>111</td>\n",
       "      <td>0</td>\n",
       "      <td>0</td>\n",
       "      <td>111</td>\n",
       "      <td>0</td>\n",
       "      <td>0</td>\n",
       "      <td>0</td>\n",
       "      <td>0</td>\n",
       "      <td>0</td>\n",
       "    </tr>\n",
       "    <tr>\n",
       "      <th>4</th>\n",
       "      <td>photo</td>\n",
       "      <td>4/18/2018 3:22</td>\n",
       "      <td>213</td>\n",
       "      <td>0</td>\n",
       "      <td>0</td>\n",
       "      <td>204</td>\n",
       "      <td>9</td>\n",
       "      <td>0</td>\n",
       "      <td>0</td>\n",
       "      <td>0</td>\n",
       "      <td>0</td>\n",
       "    </tr>\n",
       "  </tbody>\n",
       "</table>\n",
       "</div>"
      ],
      "text/plain": [
       "  status_type status_published  num_reactions  num_comments  num_shares  \\\n",
       "0       video   4/22/2018 6:00            529           512         262   \n",
       "1       photo  4/21/2018 22:45            150             0           0   \n",
       "2       video   4/21/2018 6:17            227           236          57   \n",
       "3       photo   4/21/2018 2:29            111             0           0   \n",
       "4       photo   4/18/2018 3:22            213             0           0   \n",
       "\n",
       "   num_likes  num_loves  num_wows  num_hahas  num_sads  num_angrys  \n",
       "0        432         92         3          1         1           0  \n",
       "1        150          0         0          0         0           0  \n",
       "2        204         21         1          1         0           0  \n",
       "3        111          0         0          0         0           0  \n",
       "4        204          9         0          0         0           0  "
      ]
     },
     "execution_count": 5,
     "metadata": {},
     "output_type": "execute_result"
    }
   ],
   "source": [
    "# Delete status_id column (not needed) and last 4 columns because they are blank\n",
    "df.drop(['status_id', 'Column1', 'Column2', 'Column3', 'Column4'], axis=1, inplace=True)\n",
    "# View the data frame to see how it changed\n",
    "df.head()"
   ]
  },
  {
   "cell_type": "code",
   "execution_count": 6,
   "metadata": {},
   "outputs": [
    {
     "data": {
      "text/plain": [
       "status_type         object\n",
       "status_published    object\n",
       "num_reactions        int64\n",
       "num_comments         int64\n",
       "num_shares           int64\n",
       "num_likes            int64\n",
       "num_loves            int64\n",
       "num_wows             int64\n",
       "num_hahas            int64\n",
       "num_sads             int64\n",
       "num_angrys           int64\n",
       "dtype: object"
      ]
     },
     "execution_count": 6,
     "metadata": {},
     "output_type": "execute_result"
    }
   ],
   "source": [
    "# Data types\n",
    "df.dtypes\n",
    "\n",
    "#all numeric except for status_type and status_published are categorical"
   ]
  },
  {
   "cell_type": "code",
   "execution_count": 7,
   "metadata": {},
   "outputs": [
    {
     "data": {
      "text/html": [
       "<div>\n",
       "<style scoped>\n",
       "    .dataframe tbody tr th:only-of-type {\n",
       "        vertical-align: middle;\n",
       "    }\n",
       "\n",
       "    .dataframe tbody tr th {\n",
       "        vertical-align: top;\n",
       "    }\n",
       "\n",
       "    .dataframe thead th {\n",
       "        text-align: right;\n",
       "    }\n",
       "</style>\n",
       "<table border=\"1\" class=\"dataframe\">\n",
       "  <thead>\n",
       "    <tr style=\"text-align: right;\">\n",
       "      <th></th>\n",
       "      <th>status_type</th>\n",
       "      <th>status_published</th>\n",
       "      <th>num_reactions</th>\n",
       "      <th>num_comments</th>\n",
       "      <th>num_shares</th>\n",
       "      <th>num_likes</th>\n",
       "      <th>num_loves</th>\n",
       "      <th>num_wows</th>\n",
       "      <th>num_hahas</th>\n",
       "      <th>num_sads</th>\n",
       "      <th>num_angrys</th>\n",
       "    </tr>\n",
       "  </thead>\n",
       "  <tbody>\n",
       "    <tr>\n",
       "      <th>count</th>\n",
       "      <td>7050</td>\n",
       "      <td>7050</td>\n",
       "      <td>7050.000000</td>\n",
       "      <td>7050.000000</td>\n",
       "      <td>7050.000000</td>\n",
       "      <td>7050.000000</td>\n",
       "      <td>7050.000000</td>\n",
       "      <td>7050.000000</td>\n",
       "      <td>7050.000000</td>\n",
       "      <td>7050.000000</td>\n",
       "      <td>7050.000000</td>\n",
       "    </tr>\n",
       "    <tr>\n",
       "      <th>unique</th>\n",
       "      <td>4</td>\n",
       "      <td>6913</td>\n",
       "      <td>NaN</td>\n",
       "      <td>NaN</td>\n",
       "      <td>NaN</td>\n",
       "      <td>NaN</td>\n",
       "      <td>NaN</td>\n",
       "      <td>NaN</td>\n",
       "      <td>NaN</td>\n",
       "      <td>NaN</td>\n",
       "      <td>NaN</td>\n",
       "    </tr>\n",
       "    <tr>\n",
       "      <th>top</th>\n",
       "      <td>photo</td>\n",
       "      <td>3/20/2018 1:54</td>\n",
       "      <td>NaN</td>\n",
       "      <td>NaN</td>\n",
       "      <td>NaN</td>\n",
       "      <td>NaN</td>\n",
       "      <td>NaN</td>\n",
       "      <td>NaN</td>\n",
       "      <td>NaN</td>\n",
       "      <td>NaN</td>\n",
       "      <td>NaN</td>\n",
       "    </tr>\n",
       "    <tr>\n",
       "      <th>freq</th>\n",
       "      <td>4288</td>\n",
       "      <td>3</td>\n",
       "      <td>NaN</td>\n",
       "      <td>NaN</td>\n",
       "      <td>NaN</td>\n",
       "      <td>NaN</td>\n",
       "      <td>NaN</td>\n",
       "      <td>NaN</td>\n",
       "      <td>NaN</td>\n",
       "      <td>NaN</td>\n",
       "      <td>NaN</td>\n",
       "    </tr>\n",
       "    <tr>\n",
       "      <th>mean</th>\n",
       "      <td>NaN</td>\n",
       "      <td>NaN</td>\n",
       "      <td>230.117163</td>\n",
       "      <td>224.356028</td>\n",
       "      <td>40.022553</td>\n",
       "      <td>215.043121</td>\n",
       "      <td>12.728652</td>\n",
       "      <td>1.289362</td>\n",
       "      <td>0.696454</td>\n",
       "      <td>0.243688</td>\n",
       "      <td>0.113191</td>\n",
       "    </tr>\n",
       "    <tr>\n",
       "      <th>std</th>\n",
       "      <td>NaN</td>\n",
       "      <td>NaN</td>\n",
       "      <td>462.625309</td>\n",
       "      <td>889.636820</td>\n",
       "      <td>131.599965</td>\n",
       "      <td>449.472357</td>\n",
       "      <td>39.972930</td>\n",
       "      <td>8.719650</td>\n",
       "      <td>3.957183</td>\n",
       "      <td>1.597156</td>\n",
       "      <td>0.726812</td>\n",
       "    </tr>\n",
       "    <tr>\n",
       "      <th>min</th>\n",
       "      <td>NaN</td>\n",
       "      <td>NaN</td>\n",
       "      <td>0.000000</td>\n",
       "      <td>0.000000</td>\n",
       "      <td>0.000000</td>\n",
       "      <td>0.000000</td>\n",
       "      <td>0.000000</td>\n",
       "      <td>0.000000</td>\n",
       "      <td>0.000000</td>\n",
       "      <td>0.000000</td>\n",
       "      <td>0.000000</td>\n",
       "    </tr>\n",
       "    <tr>\n",
       "      <th>25%</th>\n",
       "      <td>NaN</td>\n",
       "      <td>NaN</td>\n",
       "      <td>17.000000</td>\n",
       "      <td>0.000000</td>\n",
       "      <td>0.000000</td>\n",
       "      <td>17.000000</td>\n",
       "      <td>0.000000</td>\n",
       "      <td>0.000000</td>\n",
       "      <td>0.000000</td>\n",
       "      <td>0.000000</td>\n",
       "      <td>0.000000</td>\n",
       "    </tr>\n",
       "    <tr>\n",
       "      <th>50%</th>\n",
       "      <td>NaN</td>\n",
       "      <td>NaN</td>\n",
       "      <td>59.500000</td>\n",
       "      <td>4.000000</td>\n",
       "      <td>0.000000</td>\n",
       "      <td>58.000000</td>\n",
       "      <td>0.000000</td>\n",
       "      <td>0.000000</td>\n",
       "      <td>0.000000</td>\n",
       "      <td>0.000000</td>\n",
       "      <td>0.000000</td>\n",
       "    </tr>\n",
       "    <tr>\n",
       "      <th>75%</th>\n",
       "      <td>NaN</td>\n",
       "      <td>NaN</td>\n",
       "      <td>219.000000</td>\n",
       "      <td>23.000000</td>\n",
       "      <td>4.000000</td>\n",
       "      <td>184.750000</td>\n",
       "      <td>3.000000</td>\n",
       "      <td>0.000000</td>\n",
       "      <td>0.000000</td>\n",
       "      <td>0.000000</td>\n",
       "      <td>0.000000</td>\n",
       "    </tr>\n",
       "    <tr>\n",
       "      <th>max</th>\n",
       "      <td>NaN</td>\n",
       "      <td>NaN</td>\n",
       "      <td>4710.000000</td>\n",
       "      <td>20990.000000</td>\n",
       "      <td>3424.000000</td>\n",
       "      <td>4710.000000</td>\n",
       "      <td>657.000000</td>\n",
       "      <td>278.000000</td>\n",
       "      <td>157.000000</td>\n",
       "      <td>51.000000</td>\n",
       "      <td>31.000000</td>\n",
       "    </tr>\n",
       "  </tbody>\n",
       "</table>\n",
       "</div>"
      ],
      "text/plain": [
       "       status_type status_published  num_reactions  num_comments   num_shares  \\\n",
       "count         7050             7050    7050.000000   7050.000000  7050.000000   \n",
       "unique           4             6913            NaN           NaN          NaN   \n",
       "top          photo   3/20/2018 1:54            NaN           NaN          NaN   \n",
       "freq          4288                3            NaN           NaN          NaN   \n",
       "mean           NaN              NaN     230.117163    224.356028    40.022553   \n",
       "std            NaN              NaN     462.625309    889.636820   131.599965   \n",
       "min            NaN              NaN       0.000000      0.000000     0.000000   \n",
       "25%            NaN              NaN      17.000000      0.000000     0.000000   \n",
       "50%            NaN              NaN      59.500000      4.000000     0.000000   \n",
       "75%            NaN              NaN     219.000000     23.000000     4.000000   \n",
       "max            NaN              NaN    4710.000000  20990.000000  3424.000000   \n",
       "\n",
       "          num_likes    num_loves     num_wows    num_hahas     num_sads  \\\n",
       "count   7050.000000  7050.000000  7050.000000  7050.000000  7050.000000   \n",
       "unique          NaN          NaN          NaN          NaN          NaN   \n",
       "top             NaN          NaN          NaN          NaN          NaN   \n",
       "freq            NaN          NaN          NaN          NaN          NaN   \n",
       "mean     215.043121    12.728652     1.289362     0.696454     0.243688   \n",
       "std      449.472357    39.972930     8.719650     3.957183     1.597156   \n",
       "min        0.000000     0.000000     0.000000     0.000000     0.000000   \n",
       "25%       17.000000     0.000000     0.000000     0.000000     0.000000   \n",
       "50%       58.000000     0.000000     0.000000     0.000000     0.000000   \n",
       "75%      184.750000     3.000000     0.000000     0.000000     0.000000   \n",
       "max     4710.000000   657.000000   278.000000   157.000000    51.000000   \n",
       "\n",
       "         num_angrys  \n",
       "count   7050.000000  \n",
       "unique          NaN  \n",
       "top             NaN  \n",
       "freq            NaN  \n",
       "mean       0.113191  \n",
       "std        0.726812  \n",
       "min        0.000000  \n",
       "25%        0.000000  \n",
       "50%        0.000000  \n",
       "75%        0.000000  \n",
       "max       31.000000  "
      ]
     },
     "execution_count": 7,
     "metadata": {},
     "output_type": "execute_result"
    }
   ],
   "source": [
    "# Statistical Summary of attributes\n",
    "df.describe(include='all')"
   ]
  },
  {
   "cell_type": "code",
   "execution_count": 8,
   "metadata": {},
   "outputs": [
    {
     "data": {
      "text/plain": [
       "'\\nAnalysis:\\nThere are 7050 total instances.\\nThe top status_type (occurs most often) is photo.\\nThere are 6913 unique dates/times for status published, which means there were some instances that occured at the exact same time.\\nThe mean is a lot higher than the median for all of the numerical data, which suggests there might be some high outliers.\\nSome of the max values, especially for num_comments, is extremely high (over 20,000) relative to the other data.\\nThe minimum value is 0 for all of the numerical attributes.\\n'"
      ]
     },
     "execution_count": 8,
     "metadata": {},
     "output_type": "execute_result"
    }
   ],
   "source": [
    "'''\n",
    "Analysis:\n",
    "There are 7050 total instances.\n",
    "The top status_type (occurs most often) is photo.\n",
    "There are 6913 unique dates/times for status published, which means there were some instances that occured at the exact same time.\n",
    "The mean is a lot higher than the median for all of the numerical data, which suggests there might be some high outliers.\n",
    "Some of the max values, especially for num_comments, is extremely high (over 20,000) relative to the other data.\n",
    "The minimum value is 0 for all of the numerical attributes.\n",
    "'''"
   ]
  },
  {
   "cell_type": "code",
   "execution_count": 9,
   "metadata": {},
   "outputs": [
    {
     "name": "stdout",
     "output_type": "stream",
     "text": [
      "<class 'pandas.core.frame.DataFrame'>\n",
      "RangeIndex: 7050 entries, 0 to 7049\n",
      "Data columns (total 11 columns):\n",
      " #   Column            Non-Null Count  Dtype \n",
      "---  ------            --------------  ----- \n",
      " 0   status_type       7050 non-null   object\n",
      " 1   status_published  7050 non-null   object\n",
      " 2   num_reactions     7050 non-null   int64 \n",
      " 3   num_comments      7050 non-null   int64 \n",
      " 4   num_shares        7050 non-null   int64 \n",
      " 5   num_likes         7050 non-null   int64 \n",
      " 6   num_loves         7050 non-null   int64 \n",
      " 7   num_wows          7050 non-null   int64 \n",
      " 8   num_hahas         7050 non-null   int64 \n",
      " 9   num_sads          7050 non-null   int64 \n",
      " 10  num_angrys        7050 non-null   int64 \n",
      "dtypes: int64(9), object(2)\n",
      "memory usage: 606.0+ KB\n"
     ]
    }
   ],
   "source": [
    "# More description of the data\n",
    "df.info()"
   ]
  },
  {
   "cell_type": "code",
   "execution_count": 10,
   "metadata": {},
   "outputs": [
    {
     "data": {
      "text/plain": [
       "photo     4288\n",
       "video     2334\n",
       "status     365\n",
       "link        63\n",
       "Name: status_type, dtype: int64"
      ]
     },
     "execution_count": 10,
     "metadata": {},
     "output_type": "execute_result"
    }
   ],
   "source": [
    "# Find number of instances for each category in status_type\n",
    "df['status_type'].value_counts()\n",
    "\n",
    "# We have some data imbalance  -- Could maybe combine status and link?"
   ]
  },
  {
   "cell_type": "code",
   "execution_count": 11,
   "metadata": {},
   "outputs": [
    {
     "data": {
      "image/png": "[encoded data removed]",
      "text/plain": [
       "<Figure size 648x360 with 1 Axes>"
      ]
     },
     "metadata": {
      "needs_background": "light"
     },
     "output_type": "display_data"
    }
   ],
   "source": [
    "# Count plot to show number of instances for each category in status type\n",
    "plt.figure(figsize=(9,5)) #Set plot size\n",
    "\n",
    "sb.countplot(x='status_type', data=df)\n",
    "\n",
    "plt.title('Count Plot of Facebook Status Type') # add a title to the plot\n",
    "plt.ylabel('Count of Status Type') # add y-label\n",
    "plt.xlabel('Status Type') # add x-label\n",
    "\n",
    "plt.show()"
   ]
  },
  {
   "cell_type": "code",
   "execution_count": 12,
   "metadata": {},
   "outputs": [
    {
     "data": {
      "text/plain": [
       "status_type         0\n",
       "status_published    0\n",
       "num_reactions       0\n",
       "num_comments        0\n",
       "num_shares          0\n",
       "num_likes           0\n",
       "num_loves           0\n",
       "num_wows            0\n",
       "num_hahas           0\n",
       "num_sads            0\n",
       "num_angrys          0\n",
       "dtype: int64"
      ]
     },
     "execution_count": 12,
     "metadata": {},
     "output_type": "execute_result"
    }
   ],
   "source": [
    "# Check for missing values\n",
    "df.isnull().sum()\n",
    "\n",
    "#There are no missing values"
   ]
  },
  {
   "cell_type": "code",
   "execution_count": 13,
   "metadata": {},
   "outputs": [
    {
     "name": "stdout",
     "output_type": "stream",
     "text": [
      "(7050, 11)\n"
     ]
    }
   ],
   "source": [
    "#Drop duplicate rows\n",
    "df.drop_duplicates()\n",
    "print(df.shape)   # Check shape of data frame\n",
    "\n",
    "#No duplicate rows"
   ]
  },
  {
   "cell_type": "code",
   "execution_count": 14,
   "metadata": {},
   "outputs": [
    {
     "name": "stdout",
     "output_type": "stream",
     "text": [
      "        status_published date_published time_published\n",
      "0    2018-04-22 06:00:00     2018-04-22       06:00:00\n",
      "1    2018-04-21 22:45:00     2018-04-21       22:45:00\n",
      "2    2018-04-21 06:17:00     2018-04-21       06:17:00\n",
      "3    2018-04-21 02:29:00     2018-04-21       02:29:00\n",
      "4    2018-04-18 03:22:00     2018-04-18       03:22:00\n",
      "...                  ...            ...            ...\n",
      "7045 2016-09-24 02:58:00     2016-09-24       02:58:00\n",
      "7046 2016-09-23 11:19:00     2016-09-23       11:19:00\n",
      "7047 2016-09-21 23:03:00     2016-09-21       23:03:00\n",
      "7048 2016-09-20 00:43:00     2016-09-20       00:43:00\n",
      "7049 2016-09-10 10:30:00     2016-09-10       10:30:00\n",
      "\n",
      "[7050 rows x 3 columns]\n"
     ]
    }
   ],
   "source": [
    "#convert date/time column (status_published) into 2 different columns for date and time\n",
    "df['status_published'] = pd.to_datetime(df['status_published'])\n",
    "df['date_published'] = df['status_published'].dt.date\n",
    "df['time_published'] = df['status_published'].dt.time\n",
    "print(df[['status_published','date_published','time_published']])"
   ]
  },
  {
   "cell_type": "code",
   "execution_count": 15,
   "metadata": {},
   "outputs": [
    {
     "data": {
      "text/html": [
       "<div>\n",
       "<style scoped>\n",
       "    .dataframe tbody tr th:only-of-type {\n",
       "        vertical-align: middle;\n",
       "    }\n",
       "\n",
       "    .dataframe tbody tr th {\n",
       "        vertical-align: top;\n",
       "    }\n",
       "\n",
       "    .dataframe thead th {\n",
       "        text-align: right;\n",
       "    }\n",
       "</style>\n",
       "<table border=\"1\" class=\"dataframe\">\n",
       "  <thead>\n",
       "    <tr style=\"text-align: right;\">\n",
       "      <th></th>\n",
       "      <th>status_type</th>\n",
       "      <th>num_reactions</th>\n",
       "      <th>num_comments</th>\n",
       "      <th>num_shares</th>\n",
       "      <th>num_likes</th>\n",
       "      <th>num_loves</th>\n",
       "      <th>num_wows</th>\n",
       "      <th>num_hahas</th>\n",
       "      <th>num_sads</th>\n",
       "      <th>num_angrys</th>\n",
       "      <th>date_published</th>\n",
       "      <th>time_published</th>\n",
       "    </tr>\n",
       "  </thead>\n",
       "  <tbody>\n",
       "    <tr>\n",
       "      <th>0</th>\n",
       "      <td>video</td>\n",
       "      <td>529</td>\n",
       "      <td>512</td>\n",
       "      <td>262</td>\n",
       "      <td>432</td>\n",
       "      <td>92</td>\n",
       "      <td>3</td>\n",
       "      <td>1</td>\n",
       "      <td>1</td>\n",
       "      <td>0</td>\n",
       "      <td>2018-04-22</td>\n",
       "      <td>06:00:00</td>\n",
       "    </tr>\n",
       "    <tr>\n",
       "      <th>1</th>\n",
       "      <td>photo</td>\n",
       "      <td>150</td>\n",
       "      <td>0</td>\n",
       "      <td>0</td>\n",
       "      <td>150</td>\n",
       "      <td>0</td>\n",
       "      <td>0</td>\n",
       "      <td>0</td>\n",
       "      <td>0</td>\n",
       "      <td>0</td>\n",
       "      <td>2018-04-21</td>\n",
       "      <td>22:45:00</td>\n",
       "    </tr>\n",
       "    <tr>\n",
       "      <th>2</th>\n",
       "      <td>video</td>\n",
       "      <td>227</td>\n",
       "      <td>236</td>\n",
       "      <td>57</td>\n",
       "      <td>204</td>\n",
       "      <td>21</td>\n",
       "      <td>1</td>\n",
       "      <td>1</td>\n",
       "      <td>0</td>\n",
       "      <td>0</td>\n",
       "      <td>2018-04-21</td>\n",
       "      <td>06:17:00</td>\n",
       "    </tr>\n",
       "    <tr>\n",
       "      <th>3</th>\n",
       "      <td>photo</td>\n",
       "      <td>111</td>\n",
       "      <td>0</td>\n",
       "      <td>0</td>\n",
       "      <td>111</td>\n",
       "      <td>0</td>\n",
       "      <td>0</td>\n",
       "      <td>0</td>\n",
       "      <td>0</td>\n",
       "      <td>0</td>\n",
       "      <td>2018-04-21</td>\n",
       "      <td>02:29:00</td>\n",
       "    </tr>\n",
       "    <tr>\n",
       "      <th>4</th>\n",
       "      <td>photo</td>\n",
       "      <td>213</td>\n",
       "      <td>0</td>\n",
       "      <td>0</td>\n",
       "      <td>204</td>\n",
       "      <td>9</td>\n",
       "      <td>0</td>\n",
       "      <td>0</td>\n",
       "      <td>0</td>\n",
       "      <td>0</td>\n",
       "      <td>2018-04-18</td>\n",
       "      <td>03:22:00</td>\n",
       "    </tr>\n",
       "  </tbody>\n",
       "</table>\n",
       "</div>"
      ],
      "text/plain": [
       "  status_type  num_reactions  num_comments  num_shares  num_likes  num_loves  \\\n",
       "0       video            529           512         262        432         92   \n",
       "1       photo            150             0           0        150          0   \n",
       "2       video            227           236          57        204         21   \n",
       "3       photo            111             0           0        111          0   \n",
       "4       photo            213             0           0        204          9   \n",
       "\n",
       "   num_wows  num_hahas  num_sads  num_angrys date_published time_published  \n",
       "0         3          1         1           0     2018-04-22       06:00:00  \n",
       "1         0          0         0           0     2018-04-21       22:45:00  \n",
       "2         1          1         0           0     2018-04-21       06:17:00  \n",
       "3         0          0         0           0     2018-04-21       02:29:00  \n",
       "4         0          0         0           0     2018-04-18       03:22:00  "
      ]
     },
     "execution_count": 15,
     "metadata": {},
     "output_type": "execute_result"
    }
   ],
   "source": [
    "#drop original status_published column\n",
    "df.drop(\"status_published\", axis = 1, inplace=True)\n",
    "df.head()"
   ]
  },
  {
   "cell_type": "code",
   "execution_count": 16,
   "metadata": {},
   "outputs": [
    {
     "name": "stdout",
     "output_type": "stream",
     "text": [
      "date_published  date_published\n",
      "2016-09-22      2016-09-22         1\n",
      "2014-08-21      2014-08-21         1\n",
      "2014-08-14      2014-08-14         1\n",
      "2014-08-06      2014-08-06         1\n",
      "2014-07-28      2014-07-28         1\n",
      "                                  ..\n",
      "2018-06-08      2018-06-08        35\n",
      "2018-05-25      2018-05-25        38\n",
      "2018-06-11      2018-06-11        42\n",
      "2018-06-09      2018-06-09        43\n",
      "2018-06-07      2018-06-07        51\n",
      "Name: date_published, Length: 1352, dtype: int64\n"
     ]
    }
   ],
   "source": [
    "#number of rows for each date  -- sort by number\n",
    "print(df['date_published'].groupby(df['date_published']).value_counts().sort_values())\n",
    "\n",
    "# 6-7-2018 has the highest number of occurances -- it looks like the summer months in later years have more occurances, which makes sense"
   ]
  },
  {
   "cell_type": "code",
   "execution_count": 17,
   "metadata": {},
   "outputs": [
    {
     "name": "stdout",
     "output_type": "stream",
     "text": [
      "2012-07-15\n",
      "2018-06-13\n"
     ]
    }
   ],
   "source": [
    "#Min and max of date_published\n",
    "print(df['date_published'].min())\n",
    "print(df['date_published'].max())\n",
    "\n",
    "#Data ranges from July 15, 2012 to June 13, 2018"
   ]
  },
  {
   "cell_type": "code",
   "execution_count": 18,
   "metadata": {},
   "outputs": [
    {
     "data": {
      "text/plain": [
       "time_published  time_published\n",
       "11:16:00        11:16:00           1\n",
       "11:27:00        11:27:00           1\n",
       "19:36:00        19:36:00           1\n",
       "19:35:00        19:35:00           1\n",
       "19:31:00        19:31:00           1\n",
       "                                  ..\n",
       "01:06:00        01:06:00          33\n",
       "07:06:00        07:06:00          33\n",
       "07:05:00        07:05:00          33\n",
       "01:07:00        01:07:00          34\n",
       "01:08:00        01:08:00          35\n",
       "Name: time_published, Length: 1050, dtype: int64"
      ]
     },
     "execution_count": 18,
     "metadata": {},
     "output_type": "execute_result"
    }
   ],
   "source": [
    "#Number of rows for each time of day\n",
    "df['time_published'].groupby(df['time_published']).value_counts().sort_values()\n",
    "\n",
    "#ranges from midnight(00:00:00) to 11:59pm (23:59:00) \n",
    "# It seems like 1pm and 7pm are most popular times to post"
   ]
  },
  {
   "cell_type": "code",
   "execution_count": null,
   "metadata": {},
   "outputs": [],
   "source": []
  },
  {
   "cell_type": "code",
   "execution_count": 19,
   "metadata": {},
   "outputs": [
    {
     "data": {
      "image/png": "[encoded data removed]",
      "text/plain": [
       "<Figure size 720x360 with 9 Axes>"
      ]
     },
     "metadata": {
      "needs_background": "light"
     },
     "output_type": "display_data"
    }
   ],
   "source": [
    "# Histograms for all numerical attributes\n",
    "df.hist(figsize=(10,5), bins=4)\n",
    "plt.show()\n",
    "\n",
    "#All of the attributes seem to be skewed to the right. Normalizing the data will help deal with this issue."
   ]
  },
  {
   "cell_type": "code",
   "execution_count": 20,
   "metadata": {},
   "outputs": [
    {
     "data": {
      "image/png": "[encoded data removed]",
      "text/plain": [
       "<Figure size 720x360 with 1 Axes>"
      ]
     },
     "metadata": {
      "needs_background": "light"
     },
     "output_type": "display_data"
    }
   ],
   "source": [
    "#Boxplot using X=num_likes and Y=status_type\n",
    "plt.figure(figsize=(10,5))\n",
    "sb.boxplot(x=\"num_likes\",y=\"status_type\",data=df)\n",
    "plt.xticks(rotation=90)\n",
    "\n",
    "plt.show()\n",
    "#lots of high outliers"
   ]
  },
  {
   "cell_type": "code",
   "execution_count": 21,
   "metadata": {},
   "outputs": [
    {
     "name": "stdout",
     "output_type": "stream",
     "text": [
      "     status_type  num_reactions  num_comments  num_shares  num_likes  \\\n",
      "0              2            529           512         262        432   \n",
      "1              1            150             0           0        150   \n",
      "2              2            227           236          57        204   \n",
      "3              1            111             0           0        111   \n",
      "4              1            213             0           0        204   \n",
      "...          ...            ...           ...         ...        ...   \n",
      "7045           1             89             0           0         89   \n",
      "7046           1             16             0           0         14   \n",
      "7047           1              2             0           0          1   \n",
      "7048           1            351            12          22        349   \n",
      "7049           1             17             0           0         17   \n",
      "\n",
      "      num_loves  num_wows  num_hahas  num_sads  num_angrys date_published  \\\n",
      "0            92         3          1         1           0     2018-04-22   \n",
      "1             0         0          0         0           0     2018-04-21   \n",
      "2            21         1          1         0           0     2018-04-21   \n",
      "3             0         0          0         0           0     2018-04-21   \n",
      "4             9         0          0         0           0     2018-04-18   \n",
      "...         ...       ...        ...       ...         ...            ...   \n",
      "7045          0         0          0         0           0     2016-09-24   \n",
      "7046          1         0          1         0           0     2016-09-23   \n",
      "7047          1         0          0         0           0     2016-09-21   \n",
      "7048          2         0          0         0           0     2016-09-20   \n",
      "7049          0         0          0         0           0     2016-09-10   \n",
      "\n",
      "     time_published  \n",
      "0          06:00:00  \n",
      "1          22:45:00  \n",
      "2          06:17:00  \n",
      "3          02:29:00  \n",
      "4          03:22:00  \n",
      "...             ...  \n",
      "7045       02:58:00  \n",
      "7046       11:19:00  \n",
      "7047       23:03:00  \n",
      "7048       00:43:00  \n",
      "7049       10:30:00  \n",
      "\n",
      "[7050 rows x 12 columns]\n"
     ]
    },
    {
     "name": "stderr",
     "output_type": "stream",
     "text": [
      "/opt/conda/envs/Python-3.7-main/lib/python3.7/site-packages/ipykernel/__main__.py:2: SettingWithCopyWarning: \n",
      "A value is trying to be set on a copy of a slice from a DataFrame\n",
      "\n",
      "See the caveats in the documentation: https://pandas.pydata.org/pandas-docs/stable/user_guide/indexing.html#returning-a-view-versus-a-copy\n",
      "  from ipykernel import kernelapp as app\n",
      "/opt/conda/envs/Python-3.7-main/lib/python3.7/site-packages/ipykernel/__main__.py:3: SettingWithCopyWarning: \n",
      "A value is trying to be set on a copy of a slice from a DataFrame\n",
      "\n",
      "See the caveats in the documentation: https://pandas.pydata.org/pandas-docs/stable/user_guide/indexing.html#returning-a-view-versus-a-copy\n",
      "  app.launch_new_instance()\n",
      "/opt/conda/envs/Python-3.7-main/lib/python3.7/site-packages/ipykernel/__main__.py:4: SettingWithCopyWarning: \n",
      "A value is trying to be set on a copy of a slice from a DataFrame\n",
      "\n",
      "See the caveats in the documentation: https://pandas.pydata.org/pandas-docs/stable/user_guide/indexing.html#returning-a-view-versus-a-copy\n",
      "/opt/conda/envs/Python-3.7-main/lib/python3.7/site-packages/ipykernel/__main__.py:5: SettingWithCopyWarning: \n",
      "A value is trying to be set on a copy of a slice from a DataFrame\n",
      "\n",
      "See the caveats in the documentation: https://pandas.pydata.org/pandas-docs/stable/user_guide/indexing.html#returning-a-view-versus-a-copy\n"
     ]
    }
   ],
   "source": [
    "# Change status_type column to numbers (photo=1, video=2, status=3, link=4)\n",
    "df.status_type[df.status_type== 'photo']=1\n",
    "df.status_type[df.status_type== 'video']=2\n",
    "df.status_type[df.status_type== 'status']=3\n",
    "df.status_type[df.status_type== 'link']=4\n",
    "print(df)"
   ]
  },
  {
   "cell_type": "code",
   "execution_count": 22,
   "metadata": {},
   "outputs": [
    {
     "data": {
      "text/plain": [
       "status_type       object\n",
       "num_reactions      int64\n",
       "num_comments       int64\n",
       "num_shares         int64\n",
       "num_likes          int64\n",
       "num_loves          int64\n",
       "num_wows           int64\n",
       "num_hahas          int64\n",
       "num_sads           int64\n",
       "num_angrys         int64\n",
       "date_published    object\n",
       "time_published    object\n",
       "dtype: object"
      ]
     },
     "execution_count": 22,
     "metadata": {},
     "output_type": "execute_result"
    }
   ],
   "source": [
    "#Check data types\n",
    "df.dtypes"
   ]
  },
  {
   "cell_type": "code",
   "execution_count": 23,
   "metadata": {},
   "outputs": [
    {
     "data": {
      "text/plain": [
       "status_type        int64\n",
       "num_reactions      int64\n",
       "num_comments       int64\n",
       "num_shares         int64\n",
       "num_likes          int64\n",
       "num_loves          int64\n",
       "num_wows           int64\n",
       "num_hahas          int64\n",
       "num_sads           int64\n",
       "num_angrys         int64\n",
       "date_published    object\n",
       "time_published    object\n",
       "dtype: object"
      ]
     },
     "execution_count": 23,
     "metadata": {},
     "output_type": "execute_result"
    }
   ],
   "source": [
    "# Change status_type to numeric\n",
    "df['status_type'] = df['status_type'].astype(int)\n",
    "df.dtypes"
   ]
  },
  {
   "cell_type": "code",
   "execution_count": 24,
   "metadata": {},
   "outputs": [
    {
     "data": {
      "image/png": "[encoded data removed]",
      "text/plain": [
       "<Figure size 1080x720 with 100 Axes>"
      ]
     },
     "metadata": {
      "needs_background": "light"
     },
     "output_type": "display_data"
    }
   ],
   "source": [
    "# Generate scatterplots for all numeric data\n",
    "pd.plotting.scatter_matrix(df, figsize=[15,10], color = 'green')\n",
    "plt.show()"
   ]
  },
  {
   "cell_type": "code",
   "execution_count": 25,
   "metadata": {},
   "outputs": [
    {
     "name": "stdout",
     "output_type": "stream",
     "text": [
      "The Pearson Correlation Coefficient is 0.1459546811322806  with a P-value of P = 7.173109803771956e-35\n"
     ]
    }
   ],
   "source": [
    "# Pearson correlation coefficient for status_type and num_reactions\n",
    "pearson_coef, p_value = stat.pearsonr(df['status_type'], df['num_reactions'])\n",
    "print(\"The Pearson Correlation Coefficient is\", pearson_coef, \" with a P-value of P =\", p_value) "
   ]
  },
  {
   "cell_type": "code",
   "execution_count": 26,
   "metadata": {},
   "outputs": [],
   "source": [
    "# This is a fairly low correlation coefficient with a very low p-value so it is significant"
   ]
  },
  {
   "cell_type": "code",
   "execution_count": 27,
   "metadata": {},
   "outputs": [
    {
     "name": "stdout",
     "output_type": "stream",
     "text": [
      "Correlation:\n",
      "               status_type  num_reactions  num_comments  num_shares  \\\n",
      "status_type       1.000000       0.145955      0.199587    0.241168   \n",
      "num_reactions     0.145955       1.000000      0.150843    0.250723   \n",
      "num_comments      0.199587       0.150843      1.000000    0.640637   \n",
      "num_shares        0.241168       0.250723      0.640637    1.000000   \n",
      "num_likes         0.126581       0.994923      0.101687    0.172492   \n",
      "num_loves         0.238143       0.305003      0.521223    0.820000   \n",
      "num_wows          0.061600       0.267752      0.162394    0.407628   \n",
      "num_hahas         0.105271       0.176028      0.325048    0.399826   \n",
      "num_sads          0.063487       0.075138      0.236453    0.199970   \n",
      "num_angrys        0.074397       0.124326      0.225184    0.312513   \n",
      "\n",
      "               num_likes  num_loves  num_wows  num_hahas  num_sads  num_angrys  \n",
      "status_type     0.126581   0.238143  0.061600   0.105271  0.063487    0.074397  \n",
      "num_reactions   0.994923   0.305003  0.267752   0.176028  0.075138    0.124326  \n",
      "num_comments    0.101687   0.521223  0.162394   0.325048  0.236453    0.225184  \n",
      "num_shares      0.172492   0.820000  0.407628   0.399826  0.199970    0.312513  \n",
      "num_likes       1.000000   0.209308  0.207800   0.120784  0.052169    0.087431  \n",
      "num_loves       0.209308   1.000000  0.508798   0.507830  0.207600    0.371001  \n",
      "num_wows        0.207800   0.508798  1.000000   0.287756  0.086503    0.183087  \n",
      "num_hahas       0.120784   0.507830  0.287756   1.000000  0.141421    0.211910  \n",
      "num_sads        0.052169   0.207600  0.086503   0.141421  1.000000    0.142072  \n",
      "num_angrys      0.087431   0.371001  0.183087   0.211910  0.142072    1.000000  \n"
     ]
    }
   ],
   "source": [
    "#Correlation matrix\n",
    "print(\"Correlation:\")\n",
    "print(df.corr())\n",
    "\n",
    "#There is a very high correclation between num_reactions and num_likes (0.99)\n",
    "#High correlation between num_shares and num_loves (0.82)"
   ]
  },
  {
   "cell_type": "markdown",
   "metadata": {},
   "source": [
    "### Model"
   ]
  },
  {
   "cell_type": "code",
   "execution_count": 28,
   "metadata": {},
   "outputs": [],
   "source": [
    "from sklearn import preprocessing"
   ]
  },
  {
   "cell_type": "code",
   "execution_count": 29,
   "metadata": {},
   "outputs": [
    {
     "data": {
      "text/plain": [
       "array([2, 1, 2, ..., 1, 1, 1])"
      ]
     },
     "execution_count": 29,
     "metadata": {},
     "output_type": "execute_result"
    }
   ],
   "source": [
    "#Define y as response variable\n",
    "y = df.iloc[:, 0].values\n",
    "y"
   ]
  },
  {
   "cell_type": "code",
   "execution_count": 30,
   "metadata": {},
   "outputs": [
    {
     "data": {
      "text/plain": [
       "array([[529, 512, 262, ...,   1,   1,   0],\n",
       "       [150,   0,   0, ...,   0,   0,   0],\n",
       "       [227, 236,  57, ...,   1,   0,   0],\n",
       "       ...,\n",
       "       [  2,   0,   0, ...,   0,   0,   0],\n",
       "       [351,  12,  22, ...,   0,   0,   0],\n",
       "       [ 17,   0,   0, ...,   0,   0,   0]])"
      ]
     },
     "execution_count": 30,
     "metadata": {},
     "output_type": "execute_result"
    }
   ],
   "source": [
    "# Define X as predictor variables\n",
    "X = df.iloc[:, 1:10].values\n",
    "X"
   ]
  },
  {
   "cell_type": "code",
   "execution_count": 31,
   "metadata": {},
   "outputs": [],
   "source": [
    " # Note: We decided not to use the date and time because we do not think it is very correlated with the type of facebook post"
   ]
  },
  {
   "cell_type": "code",
   "execution_count": 32,
   "metadata": {},
   "outputs": [
    {
     "data": {
      "text/plain": [
       "array([[ 0.64610394,  0.32335035,  1.6868788 ,  0.48272661,  1.98326643,\n",
       "         0.1961959 ,  0.07671305,  0.47357035, -0.15574803],\n",
       "       [-0.17319166, -0.25220622, -0.3041444 , -0.14472021, -0.3184544 ,\n",
       "        -0.147879  , -0.17600986, -0.152587  , -0.15574803],\n",
       "       [-0.00673846,  0.01308938,  0.12901714, -0.02457082,  0.2069384 ,\n",
       "        -0.03318737,  0.07671305, -0.152587  , -0.15574803],\n",
       "       [-0.25749912, -0.25220622, -0.3041444 , -0.23149477, -0.3184544 ,\n",
       "        -0.147879  , -0.17600986, -0.152587  , -0.15574803],\n",
       "       [-0.03700268, -0.25220622, -0.3041444 , -0.02457082, -0.09328605,\n",
       "        -0.147879  , -0.17600986, -0.152587  , -0.15574803]])"
      ]
     },
     "execution_count": 32,
     "metadata": {},
     "output_type": "execute_result"
    }
   ],
   "source": [
    "#Normalize Data\n",
    "X = preprocessing.StandardScaler().fit(X).transform(X.astype(float))\n",
    "X[0:5]"
   ]
  },
  {
   "cell_type": "code",
   "execution_count": 33,
   "metadata": {},
   "outputs": [
    {
     "name": "stdout",
     "output_type": "stream",
     "text": [
      "Train set: (5640, 9) (5640,)\n",
      "Test set: (1410, 9) (1410,)\n"
     ]
    }
   ],
   "source": [
    "#Train Test Split (80/20)\n",
    "from sklearn.model_selection import train_test_split\n",
    "X_train, X_test, y_train, y_test = train_test_split( X, y, test_size=0.2, random_state=4)\n",
    "print ('Train set:', X_train.shape,  y_train.shape)\n",
    "print ('Test set:', X_test.shape,  y_test.shape)"
   ]
  },
  {
   "cell_type": "code",
   "execution_count": 34,
   "metadata": {},
   "outputs": [
    {
     "data": {
      "text/plain": [
       "array([2, 1, 1, ..., 1, 1, 1])"
      ]
     },
     "execution_count": 34,
     "metadata": {},
     "output_type": "execute_result"
    }
   ],
   "source": [
    "#want to look how the class labels look in Training set\n",
    "y_train"
   ]
  },
  {
   "cell_type": "code",
   "execution_count": 35,
   "metadata": {},
   "outputs": [],
   "source": [
    "#Tree-based classifier for model building\n",
    "from sklearn import tree\n",
    "clf = tree.DecisionTreeClassifier()\n",
    "clf = clf.fit(X_train, y_train)"
   ]
  },
  {
   "cell_type": "code",
   "execution_count": 36,
   "metadata": {},
   "outputs": [
    {
     "data": {
      "text/plain": [
       "array([2, 1, 2, ..., 1, 2, 1])"
      ]
     },
     "execution_count": 36,
     "metadata": {},
     "output_type": "execute_result"
    }
   ],
   "source": [
    "#Check model by using the test data\n",
    "#Show prediction based on training set\n",
    "y_predict=clf.predict(X_test)\n",
    "y_predict"
   ]
  },
  {
   "cell_type": "code",
   "execution_count": 37,
   "metadata": {},
   "outputs": [
    {
     "name": "stdout",
     "output_type": "stream",
     "text": [
      "Train set Accuracy:  0.9324468085106383\n",
      "Test set Accuracy:  0.7581560283687944\n"
     ]
    }
   ],
   "source": [
    "#Accuracy evaluation\n",
    "from sklearn import metrics\n",
    "print(\"Train set Accuracy: \", metrics.accuracy_score(y_train, clf.predict(X_train)))\n",
    "print(\"Test set Accuracy: \", metrics.accuracy_score(y_test, y_predict))"
   ]
  },
  {
   "cell_type": "code",
   "execution_count": 38,
   "metadata": {},
   "outputs": [],
   "source": [
    "# Our training set accuracy is very good at about 93%, but the test set accuracy is a bit lower at about 76%"
   ]
  },
  {
   "cell_type": "code",
   "execution_count": 39,
   "metadata": {},
   "outputs": [
    {
     "name": "stdout",
     "output_type": "stream",
     "text": [
      "[[693  91  44   7]\n",
      " [107 361  11   3]\n",
      " [ 49  14  14   3]\n",
      " [  9   3   0   1]]\n"
     ]
    }
   ],
   "source": [
    "#Evaluation: Confusion matrix\n",
    "from sklearn.metrics import confusion_matrix\n",
    "# labels=[0,1]\n",
    "cm=confusion_matrix(y_test,y_predict)\n",
    "print(cm)"
   ]
  },
  {
   "cell_type": "code",
   "execution_count": 40,
   "metadata": {},
   "outputs": [
    {
     "data": {
      "text/plain": [
       "'\\nConfusion matrix:\\n            Actual 0.  Actual 1\\nPredicted 0 [21         0]\\nPredicted 1 [ 0         29]\\n\\nAccuracy= [Predicted 0 and Actual 0] # + [Predicted 1 and Actual 1] # / Total population\\n        = 21+29/50\\nError= [Predicted 1 but Actual 0] # + [Predicted 0 and Actual 1] # / Total population\\n     = 0\\nPrecision= [Predicted 0 and Actual 0]/[Predicted 0 and Actual 0]+[Predicted 0 and Actual 1]\\n         = 21/21+0\\nRecall= [Predicted 0 and Actual 0]/[Predicted 0 and Actual 0]+[Predicted 1 and Actual 0]\\n      = 21/21+0\\nType I error= [Predicted 0 and Actual 1]= 0\\nType II error= [Predicted 1 and Actual 0]= 0\\n'"
      ]
     },
     "execution_count": 40,
     "metadata": {},
     "output_type": "execute_result"
    }
   ],
   "source": [
    "\"\"\"\n",
    "Confusion matrix:\n",
    "            Actual 0.  Actual 1\n",
    "Predicted 0 [21         0]\n",
    "Predicted 1 [ 0         29]\n",
    "\n",
    "Accuracy= [Predicted 0 and Actual 0] # + [Predicted 1 and Actual 1] # / Total population\n",
    "        = 21+29/50\n",
    "Error= [Predicted 1 but Actual 0] # + [Predicted 0 and Actual 1] # / Total population\n",
    "     = 0\n",
    "Precision= [Predicted 0 and Actual 0]/[Predicted 0 and Actual 0]+[Predicted 0 and Actual 1]\n",
    "         = 21/21+0\n",
    "Recall= [Predicted 0 and Actual 0]/[Predicted 0 and Actual 0]+[Predicted 1 and Actual 0]\n",
    "      = 21/21+0\n",
    "Type I error= [Predicted 0 and Actual 1]= 0\n",
    "Type II error= [Predicted 1 and Actual 0]= 0\n",
    "\"\"\""
   ]
  },
  {
   "cell_type": "code",
   "execution_count": 41,
   "metadata": {},
   "outputs": [
    {
     "data": {
      "text/plain": [
       "KNeighborsClassifier()"
      ]
     },
     "execution_count": 41,
     "metadata": {},
     "output_type": "execute_result"
    }
   ],
   "source": [
    "#K nearest neighbor (K-NN)\n",
    "from sklearn.neighbors import KNeighborsClassifier\n",
    "k = 5   #k-value is 5 because we have 4 categories for status_type\n",
    "#Train Model and Predict  \n",
    "neigh = KNeighborsClassifier(n_neighbors = k).fit(X_train,y_train)\n",
    "neigh\n"
   ]
  },
  {
   "cell_type": "code",
   "execution_count": 42,
   "metadata": {},
   "outputs": [
    {
     "data": {
      "text/plain": [
       "array([2, 1, 2, 1, 2])"
      ]
     },
     "execution_count": 42,
     "metadata": {},
     "output_type": "execute_result"
    }
   ],
   "source": [
    "#Predicting\n",
    "yhat = neigh.predict(X_test)\n",
    "yhat[0:5]"
   ]
  },
  {
   "cell_type": "code",
   "execution_count": 43,
   "metadata": {},
   "outputs": [
    {
     "name": "stdout",
     "output_type": "stream",
     "text": [
      "Train set Accuracy:  0.824822695035461\n",
      "Test set Accuracy:  0.7921985815602837\n"
     ]
    }
   ],
   "source": [
    "#Accuracy evaluation\n",
    "from sklearn import metrics\n",
    "print(\"Train set Accuracy: \", metrics.accuracy_score(y_train, neigh.predict(X_train)))\n",
    "print(\"Test set Accuracy: \", metrics.accuracy_score(y_test, yhat))"
   ]
  },
  {
   "cell_type": "code",
   "execution_count": 44,
   "metadata": {},
   "outputs": [],
   "source": [
    "# Using K-NN based classification results in a lower accuracy rate than using tree-based classification\n",
    "# The training set accuracy is about 82%\n",
    "# The testing set accuracy is about 77%"
   ]
  },
  {
   "cell_type": "code",
   "execution_count": 45,
   "metadata": {},
   "outputs": [
    {
     "name": "stdout",
     "output_type": "stream",
     "text": [
      "[[693  91  44   7]\n",
      " [107 361  11   3]\n",
      " [ 49  14  14   3]\n",
      " [  9   3   0   1]]\n"
     ]
    }
   ],
   "source": [
    "#Evaluation: Confusion matrix\n",
    "from sklearn.metrics import confusion_matrix\n",
    "# labels = [0,1]\n",
    "cm=confusion_matrix(y_test,y_predict)\n",
    "print(cm)"
   ]
  },
  {
   "cell_type": "code",
   "execution_count": 46,
   "metadata": {},
   "outputs": [
    {
     "data": {
      "text/plain": [
       "array([0.75390071, 0.78652482, 0.78297872, 0.77092199, 0.79219858,\n",
       "       0.77446809, 0.76808511, 0.77588652, 0.77163121])"
      ]
     },
     "execution_count": 46,
     "metadata": {},
     "output_type": "execute_result"
    }
   ],
   "source": [
    "#K value\n",
    "Ks = 10\n",
    "mean_acc = np.zeros((Ks-1))\n",
    "std_acc = np.zeros((Ks-1))\n",
    "ConfustionMx = [];\n",
    "for n in range(1,Ks):\n",
    "    \n",
    "    #Train Model and Predict  \n",
    "    neigh = KNeighborsClassifier(n_neighbors = n).fit(X_train,y_train)\n",
    "    yhat=neigh.predict(X_test)\n",
    "    mean_acc[n-1] = metrics.accuracy_score(y_test, yhat)\n",
    "\n",
    "    \n",
    "    std_acc[n-1]=np.std(yhat==y_test)/np.sqrt(yhat.shape[0])\n",
    "\n",
    "mean_acc"
   ]
  },
  {
   "cell_type": "code",
   "execution_count": 47,
   "metadata": {},
   "outputs": [
    {
     "data": {
      "image/png": "[encoded data removed]",
      "text/plain": [
       "<Figure size 432x288 with 1 Axes>"
      ]
     },
     "metadata": {
      "needs_background": "light"
     },
     "output_type": "display_data"
    }
   ],
   "source": [
    "#Plot model accuracy for Different number of Neighbors\n",
    "plt.plot(range(1,Ks),mean_acc,'g')\n",
    "plt.fill_between(range(1,Ks),mean_acc - 1 * std_acc,mean_acc + 1 * std_acc, alpha=0.10)\n",
    "plt.legend(('Accuracy ', '+/- 3xstd'))\n",
    "plt.ylabel('Accuracy ')\n",
    "plt.xlabel('Number of Neighbors (K)')\n",
    "plt.tight_layout()\n",
    "plt.show()"
   ]
  },
  {
   "cell_type": "code",
   "execution_count": 48,
   "metadata": {},
   "outputs": [],
   "source": [
    "# Change k value to 5 since it gives the highest accuracy as shown above"
   ]
  },
  {
   "cell_type": "code",
   "execution_count": null,
   "metadata": {},
   "outputs": [],
   "source": []
  },
  {
   "cell_type": "code",
   "execution_count": 49,
   "metadata": {},
   "outputs": [
    {
     "data": {
      "text/html": [
       "<div>\n",
       "<style scoped>\n",
       "    .dataframe tbody tr th:only-of-type {\n",
       "        vertical-align: middle;\n",
       "    }\n",
       "\n",
       "    .dataframe tbody tr th {\n",
       "        vertical-align: top;\n",
       "    }\n",
       "\n",
       "    .dataframe thead th {\n",
       "        text-align: right;\n",
       "    }\n",
       "</style>\n",
       "<table border=\"1\" class=\"dataframe\">\n",
       "  <thead>\n",
       "    <tr style=\"text-align: right;\">\n",
       "      <th></th>\n",
       "      <th>status_type</th>\n",
       "      <th>num_reactions</th>\n",
       "      <th>num_comments</th>\n",
       "      <th>num_shares</th>\n",
       "      <th>num_likes</th>\n",
       "      <th>num_loves</th>\n",
       "      <th>num_wows</th>\n",
       "      <th>num_hahas</th>\n",
       "      <th>num_sads</th>\n",
       "      <th>num_angrys</th>\n",
       "    </tr>\n",
       "  </thead>\n",
       "  <tbody>\n",
       "    <tr>\n",
       "      <th>0</th>\n",
       "      <td>1</td>\n",
       "      <td>777373</td>\n",
       "      <td>68580</td>\n",
       "      <td>10951</td>\n",
       "      <td>766602</td>\n",
       "      <td>6197</td>\n",
       "      <td>2936</td>\n",
       "      <td>818</td>\n",
       "      <td>611</td>\n",
       "      <td>196</td>\n",
       "    </tr>\n",
       "    <tr>\n",
       "      <th>1</th>\n",
       "      <td>2</td>\n",
       "      <td>661478</td>\n",
       "      <td>1499544</td>\n",
       "      <td>269997</td>\n",
       "      <td>567198</td>\n",
       "      <td>82951</td>\n",
       "      <td>5714</td>\n",
       "      <td>4050</td>\n",
       "      <td>966</td>\n",
       "      <td>593</td>\n",
       "    </tr>\n",
       "    <tr>\n",
       "      <th>2</th>\n",
       "      <td>3</td>\n",
       "      <td>160156</td>\n",
       "      <td>13227</td>\n",
       "      <td>934</td>\n",
       "      <td>158968</td>\n",
       "      <td>570</td>\n",
       "      <td>428</td>\n",
       "      <td>40</td>\n",
       "      <td>141</td>\n",
       "      <td>9</td>\n",
       "    </tr>\n",
       "    <tr>\n",
       "      <th>3</th>\n",
       "      <td>4</td>\n",
       "      <td>23319</td>\n",
       "      <td>359</td>\n",
       "      <td>277</td>\n",
       "      <td>23286</td>\n",
       "      <td>19</td>\n",
       "      <td>12</td>\n",
       "      <td>2</td>\n",
       "      <td>0</td>\n",
       "      <td>0</td>\n",
       "    </tr>\n",
       "  </tbody>\n",
       "</table>\n",
       "</div>"
      ],
      "text/plain": [
       "   status_type  num_reactions  num_comments  num_shares  num_likes  num_loves  \\\n",
       "0            1         777373         68580       10951     766602       6197   \n",
       "1            2         661478       1499544      269997     567198      82951   \n",
       "2            3         160156         13227         934     158968        570   \n",
       "3            4          23319           359         277      23286         19   \n",
       "\n",
       "   num_wows  num_hahas  num_sads  num_angrys  \n",
       "0      2936        818       611         196  \n",
       "1      5714       4050       966         593  \n",
       "2       428         40       141           9  \n",
       "3        12          2         0           0  "
      ]
     },
     "execution_count": 49,
     "metadata": {},
     "output_type": "execute_result"
    }
   ],
   "source": [
    "# Create table that shows the sum for all the attributes each status type \n",
    "st_type=df.groupby(['status_type'], as_index=False).sum()\n",
    "st_type"
   ]
  },
  {
   "cell_type": "code",
   "execution_count": 50,
   "metadata": {},
   "outputs": [],
   "source": [
    "#Set status type as the index\n",
    "st_type_index = st_type.set_index('status_type', inplace=True)\n",
    "st_type_index"
   ]
  },
  {
   "cell_type": "code",
   "execution_count": null,
   "metadata": {},
   "outputs": [],
   "source": []
  },
  {
   "cell_type": "code",
   "execution_count": 51,
   "metadata": {},
   "outputs": [
    {
     "data": {
      "image/png": "[encoded data removed]",
      "text/plain": [
       "<Figure size 576x360 with 1 Axes>"
      ]
     },
     "metadata": {
      "needs_background": "light"
     },
     "output_type": "display_data"
    }
   ],
   "source": [
    "# Make a bar chart with this table showing number of each response for each type of Facebook post\n",
    "st_type.plot(kind='bar', width=1, figsize=(8, 5))\n",
    "\n",
    "plt.xlabel('Facebook Status Type') # add to x-label to the plot\n",
    "plt.ylabel('Total Number of Responses') # add y-label to the plot\n",
    "plt.title('Total Number of Each Type of Response for Type of Facebook Post') # add title to the plot\n",
    "\n",
    "# Choose the position of each barplots on the x-axis\n",
    "y_pos = [0,1,2,3]\n",
    "\n",
    "# Create names on the x-axis\n",
    "types= ('photo', 'video', 'status', 'link')\n",
    "\n",
    "plt.xticks(y_pos, types, rotation=360)  # change x labels to text instead of numbers\n",
    "\n",
    "\n",
    "plt.show()"
   ]
  },
  {
   "cell_type": "code",
   "execution_count": 52,
   "metadata": {
    "scrolled": true
   },
   "outputs": [
    {
     "data": {
      "text/plain": [
       "'\\nAccording to this data, it seems like video posts and then photo posts receive the most response on Facebook (shown in bar chart above).\\nVideos receive the most comments.\\nPhotos receive the most reactions and likes.\\n'"
      ]
     },
     "execution_count": 52,
     "metadata": {},
     "output_type": "execute_result"
    }
   ],
   "source": [
    "'''\n",
    "According to this data, it seems like video posts and then photo posts receive the most response on Facebook (shown in bar chart above).\n",
    "Videos receive the most comments.\n",
    "Photos receive the most reactions and likes.\n",
    "'''"
   ]
  },
  {
   "cell_type": "code",
   "execution_count": 53,
   "metadata": {},
   "outputs": [
    {
     "data": {
      "text/plain": [
       "'\\nConclusions:\\n-The attributes we used in our models, including the number of reactions, comments, shares, likes, loves, wows, hahas, sads, \\nand angrys that a Facebook post receives, were able to classify the type of Facebook post with a fairly high accuracy rate.\\n\\n'"
      ]
     },
     "execution_count": 53,
     "metadata": {},
     "output_type": "execute_result"
    }
   ],
   "source": [
    "'''\n",
    "Conclusions:\n",
    "-The attributes we used in our models, including the number of reactions, comments, shares, likes, loves, wows, hahas, sads, \n",
    "and angrys that a Facebook post receives, were able to classify the type of Facebook post with a fairly high accuracy rate.\n",
    "\n",
    "'''"
   ]
  },
  {
   "cell_type": "code",
   "execution_count": null,
   "metadata": {},
   "outputs": [],
   "source": []
  },
  {
   "cell_type": "code",
   "execution_count": null,
   "metadata": {},
   "outputs": [],
   "source": []
  },
  {
   "cell_type": "code",
   "execution_count": null,
   "metadata": {},
   "outputs": [],
   "source": []
  },
  {
   "cell_type": "code",
   "execution_count": null,
   "metadata": {},
   "outputs": [],
   "source": []
  },
  {
   "cell_type": "code",
   "execution_count": null,
   "metadata": {},
   "outputs": [],
   "source": []
  },
  {
   "cell_type": "code",
   "execution_count": null,
   "metadata": {},
   "outputs": [],
   "source": []
  },
  {
   "cell_type": "code",
   "execution_count": null,
   "metadata": {},
   "outputs": [],
   "source": []
  }
 ],
 "metadata": {
  "kernelspec": {
   "display_name": "Python 3",
   "language": "python",
   "name": "python3"
  },
  "language_info": {
   "codemirror_mode": {
    "name": "ipython",
    "version": 3
   },
   "file_extension": ".py",
   "mimetype": "text/x-python",
   "name": "python",
   "nbconvert_exporter": "python",
   "pygments_lexer": "ipython3",
   "version": "3.6.8"
  }
 },
 "nbformat": 4,
 "nbformat_minor": 1
}
